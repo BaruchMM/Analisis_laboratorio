{
 "cells": [
  {
   "cell_type": "code",
   "execution_count": 7,
   "metadata": {},
   "outputs": [],
   "source": [
    "import numpy as np\n",
    "import matplotlib.pyplot as plt \n",
    "import pandas as pd"
   ]
  },
  {
   "cell_type": "code",
   "execution_count": 2,
   "metadata": {},
   "outputs": [],
   "source": [
    "data = {'juda': [12.7,8.3,4.3,0,-4.2,-8.4,-12.5],\n",
    "        'Baruch':[11.9,6.7,3.4,0,-4,-7.5,-11.4],\n",
    "        'Jonny':[12.4,8.2,4.5,0,-3.5,-7.9,-11.4]}"
   ]
  },
  {
   "cell_type": "code",
   "execution_count": 10,
   "metadata": {},
   "outputs": [
    {
     "name": "stderr",
     "output_type": "stream",
     "text": [
      "C:\\Users\\baruc\\AppData\\Local\\Temp\\ipykernel_6800\\3793176260.py:2: FutureWarning: In future versions `DataFrame.to_latex` is expected to utilise the base implementation of `Styler.to_latex` for formatting and rendering. The arguments signature may therefore change. It is recommended instead to use `DataFrame.style.to_latex` which also contains additional functionality.\n",
      "  df.to_latex()\n"
     ]
    },
    {
     "data": {
      "text/plain": [
       "'\\\\begin{tabular}{lrrr}\\n\\\\toprule\\n{} &  juda &  Baruch &  Jonny \\\\\\\\\\n\\\\midrule\\n0 &  12.7 &    11.9 &   12.4 \\\\\\\\\\n1 &   8.3 &     6.7 &    8.2 \\\\\\\\\\n2 &   4.3 &     3.4 &    4.5 \\\\\\\\\\n3 &   0.0 &     0.0 &    0.0 \\\\\\\\\\n4 &  -4.2 &    -4.0 &   -3.5 \\\\\\\\\\n5 &  -8.4 &    -7.5 &   -7.9 \\\\\\\\\\n6 & -12.5 &   -11.4 &  -11.4 \\\\\\\\\\n\\\\bottomrule\\n\\\\end{tabular}\\n'"
      ]
     },
     "execution_count": 10,
     "metadata": {},
     "output_type": "execute_result"
    }
   ],
   "source": [
    "df = pd.DataFrame(data)\n",
    "df.to_latex()"
   ]
  },
  {
   "cell_type": "code",
   "execution_count": 16,
   "metadata": {},
   "outputs": [],
   "source": [
    "dis = []\n",
    "for key in data.keys():\n",
    "    distancias = [np.abs(data[key][i] - data[key][i+1]) for i in range(len(data[key])-1)]\n",
    "    dis.append(np.mean(distancias)/100)"
   ]
  },
  {
   "cell_type": "code",
   "execution_count": 17,
   "metadata": {},
   "outputs": [
    {
     "data": {
      "text/plain": [
       "[6.781071428571429e-05, 7.334034334763949e-05, 7.179957983193277e-05]"
      ]
     },
     "execution_count": 17,
     "metadata": {},
     "output_type": "execute_result"
    }
   ],
   "source": [
    "lam = 632.9e-9 \n",
    "ancho = [4.5*lam/dis[0],4.5*lam/dis[1],4.5*lam/dis[2]]\n",
    "ancho"
   ]
  },
  {
   "cell_type": "code",
   "execution_count": 18,
   "metadata": {},
   "outputs": [
    {
     "data": {
      "text/plain": [
       "1.3954301204819277e-06"
      ]
     },
     "execution_count": 18,
     "metadata": {},
     "output_type": "execute_result"
    }
   ],
   "source": [
    "(0.183*6.329e-7)/0.083"
   ]
  }
 ],
 "metadata": {
  "kernelspec": {
   "display_name": "Python 3.9.12 ('base')",
   "language": "python",
   "name": "python3"
  },
  "language_info": {
   "codemirror_mode": {
    "name": "ipython",
    "version": 3
   },
   "file_extension": ".py",
   "mimetype": "text/x-python",
   "name": "python",
   "nbconvert_exporter": "python",
   "pygments_lexer": "ipython3",
   "version": "3.9.12"
  },
  "orig_nbformat": 4,
  "vscode": {
   "interpreter": {
    "hash": "3a95b72ad26caed2f125c20bb8f543b875a0d1a71c369d3d6c01c0c3af4e63b9"
   }
  }
 },
 "nbformat": 4,
 "nbformat_minor": 2
}
